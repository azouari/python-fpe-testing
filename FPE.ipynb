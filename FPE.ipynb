{
 "cells": [
  {
   "cell_type": "code",
   "execution_count": 35,
   "id": "fc3ff84a-40f8-4eee-bba8-cc728f9f573b",
   "metadata": {},
   "outputs": [],
   "source": [
    "from ff3 import FF3Cipher\n",
    "import string\n",
    "import re\n",
    "import secrets\n",
    "from itertools import islice"
   ]
  },
  {
   "cell_type": "code",
   "execution_count": 36,
   "id": "f701f24b-d061-4af5-9936-41f7e190fe87",
   "metadata": {},
   "outputs": [],
   "source": [
    "def batched(iterable, n, *, strict=False):\n",
    "    # batched('ABCDEFG', 3) → ABC DEF G\n",
    "    if n < 1:\n",
    "        raise ValueError('n must be at least one')\n",
    "    iterator = iter(iterable)\n",
    "    while batch := tuple(islice(iterator, n)):\n",
    "        if strict and len(batch) != n:\n",
    "            raise ValueError('batched(): incomplete batch')\n",
    "        yield batch"
   ]
  },
  {
   "cell_type": "code",
   "execution_count": 16,
   "id": "7614a58c-c6f5-47c2-9e0d-0d76f70f0062",
   "metadata": {},
   "outputs": [],
   "source": [
    "key = secrets.token_hex(16)\n",
    "tweak = secrets.token_hex(7)"
   ]
  },
  {
   "cell_type": "code",
   "execution_count": 104,
   "id": "50cb71f7-2508-4011-8b3a-4f7525067baa",
   "metadata": {},
   "outputs": [],
   "source": [
    "def _modify_chunk(chunk, alpha_ind=False):\n",
    "    if alpha_ind and len(chunk) < 7:\n",
    "        return chunk + (7 - len(chunk))*(\"A\",)\n",
    "    elif len(chunk) < 7:\n",
    "        return chunk + (7 - len(chunk))*(\"0\",)\n",
    "        \n",
    "    else:\n",
    "        return chunk"
   ]
  },
  {
   "cell_type": "code",
   "execution_count": 107,
   "id": "f2775745-438f-4cec-b4a8-4283ae27193c",
   "metadata": {},
   "outputs": [],
   "source": [
    "def process_chunks(c_input, c_cipher, alpha_ind=False):\n",
    "    return ''.join([\n",
    "        c_cipher.encrypt(_modify_chunk(chunk, alpha_ind))\n",
    "        for chunk in batched(c_input, 32)\n",
    "    ])        "
   ]
  },
  {
   "cell_type": "code",
   "execution_count": 78,
   "id": "d4c4b965-de2f-4cc3-a9d2-2d3dc6f7660e",
   "metadata": {},
   "outputs": [],
   "source": [
    "def process_chunks_1(letters, c_letters):\n",
    "    return ''.join([\n",
    "        c_letters.encrypt(_modify_chunk(chunk))\n",
    "        for chunk in batched(letters, 32)\n",
    "    ])        "
   ]
  },
  {
   "cell_type": "code",
   "execution_count": 108,
   "id": "f2480beb-c027-4582-a763-80a30c324135",
   "metadata": {},
   "outputs": [],
   "source": [
    "def encrypt_string(plain_text, key, tweak):\n",
    "    \n",
    "    c_numbers =  FF3Cipher(key, tweak)\n",
    "    c_letters = FF3Cipher.withCustomAlphabet(key, tweak, string.ascii_letters)\n",
    "    pattern_letters = re.compile(r'[^a-zA-Z]')\n",
    "    pattern_nums = re.compile(r'\\D+')\n",
    "    letters = pattern_letters.sub('', plain_text)\n",
    "    nums = pattern_nums.sub('', plain_text)\n",
    "    \n",
    "    if len(nums) < 7:\n",
    "        nums =  nums + (7-len(nums))*\"0\"\n",
    "        \n",
    "    ciphertext = process_chunks(letters, c_letters, alpha_ind=True)\n",
    "    ciphernum = process_chunks(nums, c_numbers)\n",
    "    #ciphernum = c_numbers.encrypt(nums)\n",
    "    encrypted_text = []\n",
    "    letter_idx, digit_idx = 0, 0\n",
    "    for char in plain_text:\n",
    "        if char in letters:\n",
    "            encrypted_text.append(ciphertext[letter_idx])\n",
    "            letter_idx += 1\n",
    "        elif char in nums:\n",
    "            encrypted_text.append(ciphernum[digit_idx])\n",
    "            digit_idx += 1\n",
    "        else:\n",
    "            encrypted_text.append(char)\n",
    "        \n",
    "    return ''.join(encrypted_text)"
   ]
  },
  {
   "cell_type": "code",
   "execution_count": 111,
   "id": "19be3159-a645-443a-821e-52d214ded9c2",
   "metadata": {},
   "outputs": [
    {
     "data": {
      "text/plain": [
       "'66300499660, # & YXLu FY KGaj50284003653, # & wgQJ kw CGlJ91488453126, # & lbNa PW ebxY16728693610, # & olfF MT NHZW46862852605, # & ueLO dO hAxf01870734512, # & NYnf Tl PEXq34169508230, # & Hjja Yu johf36519523449, # & ZaqE nE sMlU80202633968, # & oRQU ft fuSw29628219632, # & rVjK my HbcR83787960850, # & AYuy kf SJKK97925445435, # & TRiA NM igFj23498980942, # & iVRH cH ayju39761966033, # & jRqe eG vrKr67117606620, # & puxb zg cBfE41015644813, # & czrR aB ImGm82841768459, # & YXLu FY KGaj26808806973, # & wgQJ kw CGlJ51759148962, # & lbNa PW ebxY13010831196, # & olfF MT NHZW67227548775, # & ueLO dO hAxf31271078318, # & NYnf Tl PEXq41293819511, # & Hjja Yu johf70606808474, # & ZaqE nE sMlU84818829280, # & oRQU ft fuSw66689116468, # & rVjK my HbcR25728082962, # & AYuy kf SJKK39263164468, # & TRiA NM igFj70580278367, # & iVRH cH ayju95429091370, # & jRqe eG vrKr97104344410, # & puxb zg cBfE58293952751, # & czrR aB ImGm66300499660, # & YXLu FY KGaj50284003653, # & wgQJ kw CGlJ91488453126, # & lbNa PW ebxY16728693610, # & olfF MT NHZW46862852605, # & ueLO dO hAxf01870734512, # & NYnf Tl PEXq34169508230, # & Hjja Yu johf36519523449, # & ZaqE nE sMlU80202633968, # & oRQU ft fuSw29628219632, # & rVjK my HbcR83787960850, # & AYuy kf SJKK97925445435, # & TRiA NM igFj23498980942, # & iVRH cH ayju39761966033, # & jRqe eG vrKr67117606620, # & puxb zg cBfE41015644813, # & czrR aB ImGm82841768459, # & YXLu FY KGaj26808806973, # & wgQJ kw CGlJ51759148962, # & lbNa PW ebxY13010831196, # & olfF MT NHZW67226271435, # & ueLO dO hAxf57367732616, # & NYnf Tl PEXq34532150048, # & Hjja CK bOTo'"
      ]
     },
     "execution_count": 111,
     "metadata": {},
     "output_type": "execute_result"
    }
   ],
   "source": [
    "encrypt_string(\"12345999999, # & this is nice\"*55, key, tweak)"
   ]
  },
  {
   "cell_type": "code",
   "execution_count": null,
   "id": "ad832d50-da7b-47eb-a7c3-fe1bea1f1894",
   "metadata": {},
   "outputs": [],
   "source": []
  },
  {
   "cell_type": "code",
   "execution_count": null,
   "id": "25f92206-6e8e-4299-aa8b-b90cd1b5e84e",
   "metadata": {},
   "outputs": [],
   "source": []
  },
  {
   "cell_type": "code",
   "execution_count": null,
   "id": "8809ca4f-988a-4119-a867-cc09a70d67c0",
   "metadata": {},
   "outputs": [],
   "source": []
  }
 ],
 "metadata": {
  "kernelspec": {
   "display_name": "Python 3 (ipykernel)",
   "language": "python",
   "name": "python3"
  },
  "language_info": {
   "codemirror_mode": {
    "name": "ipython",
    "version": 3
   },
   "file_extension": ".py",
   "mimetype": "text/x-python",
   "name": "python",
   "nbconvert_exporter": "python",
   "pygments_lexer": "ipython3",
   "version": "3.10.12"
  }
 },
 "nbformat": 4,
 "nbformat_minor": 5
}
