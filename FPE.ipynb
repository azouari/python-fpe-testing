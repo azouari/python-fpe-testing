{
 "cells": [
  {
   "cell_type": "code",
   "execution_count": 1,
   "id": "fc3ff84a-40f8-4eee-bba8-cc728f9f573b",
   "metadata": {},
   "outputs": [],
   "source": [
    "from ff3 import FF3Cipher"
   ]
  },
  {
   "cell_type": "code",
   "execution_count": 22,
   "id": "7614a58c-c6f5-47c2-9e0d-0d76f70f0062",
   "metadata": {},
   "outputs": [],
   "source": [
    "import string"
   ]
  },
  {
   "cell_type": "code",
   "execution_count": 23,
   "id": "5b499f5c-e3e1-4012-8f5d-0f7c2a0e7afe",
   "metadata": {},
   "outputs": [
    {
     "data": {
      "text/plain": [
       "'abcdefghijklmnopqrstuvwxyzABCDEFGHIJKLMNOPQRSTUVWXYZ'"
      ]
     },
     "execution_count": 23,
     "metadata": {},
     "output_type": "execute_result"
    }
   ],
   "source": [
    "string.ascii_letters"
   ]
  },
  {
   "cell_type": "code",
   "execution_count": 2,
   "id": "bc6d5e45-c35e-4d8d-832a-326f80fcb0db",
   "metadata": {},
   "outputs": [],
   "source": [
    "key = \"2DE79D232DF5585D68CE47882AE256D6\"\n",
    "tweak = \"CBD09280979564\""
   ]
  },
  {
   "cell_type": "code",
   "execution_count": 51,
   "id": "f23a1e72-22b3-4e2c-a51b-9ecd95bd3696",
   "metadata": {},
   "outputs": [],
   "source": [
    "c = FF3Cipher(key, tweak)"
   ]
  },
  {
   "cell_type": "code",
   "execution_count": 59,
   "id": "9f30c126-04db-4f41-90c5-2ad550952211",
   "metadata": {},
   "outputs": [],
   "source": [
    "plaintext = \"123456\"\n",
    "ciphertext = c.encrypt(plaintext)\n",
    "decrypted = c.decrypt(ciphertext)"
   ]
  },
  {
   "cell_type": "code",
   "execution_count": 56,
   "id": "eb1b281b-d510-4d4d-8f9d-a2280eb564aa",
   "metadata": {},
   "outputs": [
    {
     "data": {
      "text/plain": [
       "'609597486'"
      ]
     },
     "execution_count": 56,
     "metadata": {},
     "output_type": "execute_result"
    }
   ],
   "source": [
    "ciphertext"
   ]
  },
  {
   "cell_type": "code",
   "execution_count": 57,
   "id": "43822b7b-5bdd-4408-a3b0-467d4b11db71",
   "metadata": {},
   "outputs": [
    {
     "data": {
      "text/plain": [
       "'123456789'"
      ]
     },
     "execution_count": 57,
     "metadata": {},
     "output_type": "execute_result"
    }
   ],
   "source": [
    "decrypted"
   ]
  },
  {
   "cell_type": "code",
   "execution_count": 99,
   "id": "a8c1d9a0-4ed1-4493-a9e0-f754fe28d2cf",
   "metadata": {},
   "outputs": [],
   "source": [
    "c1 = FF3Cipher(key, tweak, radix=10)"
   ]
  },
  {
   "cell_type": "code",
   "execution_count": 100,
   "id": "7bac79d4-2066-41a6-bb7c-ad86dac68f0b",
   "metadata": {},
   "outputs": [],
   "source": [
    "c2 = FF3Cipher.withCustomAlphabet(key, tweak, string.ascii_letters)"
   ]
  },
  {
   "cell_type": "code",
   "execution_count": 102,
   "id": "20e038ce-71ff-409c-bfba-85682f4e32ec",
   "metadata": {},
   "outputs": [],
   "source": [
    "plaintext = \"AhmedZouari\"\n",
    "ciphertext = c6.encrypt(plaintext)\n",
    "decrypted = c6.decrypt(ciphertext)"
   ]
  },
  {
   "cell_type": "code",
   "execution_count": 101,
   "id": "fc2282e1-4a80-4311-8974-c78e116ccc07",
   "metadata": {},
   "outputs": [
    {
     "data": {
      "text/plain": [
       "'DYrvtwnun'"
      ]
     },
     "execution_count": 101,
     "metadata": {},
     "output_type": "execute_result"
    }
   ],
   "source": [
    "ciphertext"
   ]
  },
  {
   "cell_type": "code",
   "execution_count": 80,
   "id": "818cccf1-9a2d-4fb1-8a66-fe1ddc6f9555",
   "metadata": {},
   "outputs": [
    {
     "data": {
      "text/plain": [
       "'AhmedZouari'"
      ]
     },
     "execution_count": 80,
     "metadata": {},
     "output_type": "execute_result"
    }
   ],
   "source": [
    "decrypted"
   ]
  },
  {
   "cell_type": "code",
   "execution_count": 133,
   "id": "f36eaa2a-0ab5-4cda-b94d-2832810b17cf",
   "metadata": {},
   "outputs": [],
   "source": [
    "plain_text = '123 main st, apt 11'\n",
    "plain_text = string.ascii_letters + string.digits + string.ascii_letters\n",
    "plain_text = 'ahmed.s.zouari@gmail.com'"
   ]
  },
  {
   "cell_type": "code",
   "execution_count": 134,
   "id": "34830024-2df6-4a98-a5df-626d6cfcf1f9",
   "metadata": {},
   "outputs": [],
   "source": [
    "import re"
   ]
  },
  {
   "cell_type": "code",
   "execution_count": 135,
   "id": "7e02727f-5274-449b-b057-008daaad1a61",
   "metadata": {},
   "outputs": [],
   "source": [
    "pattern_nums = re.compile(r'\\D+')"
   ]
  },
  {
   "cell_type": "code",
   "execution_count": 136,
   "id": "c15da7b9-2597-47e5-9f0d-a036b7cc45f6",
   "metadata": {},
   "outputs": [
    {
     "data": {
      "text/plain": [
       "'7777777'"
      ]
     },
     "execution_count": 136,
     "metadata": {},
     "output_type": "execute_result"
    }
   ],
   "source": [
    "nums = pattern_nums.sub('', plain_text)\n",
    "if len(nums) < 7:\n",
    "    nums =  nums + (7-len(nums))*\"7\"\n",
    "nums"
   ]
  },
  {
   "cell_type": "code",
   "execution_count": 137,
   "id": "abb8163d-aa58-4c9c-a483-2907f75c9fce",
   "metadata": {},
   "outputs": [],
   "source": [
    "pattern_letters = re.compile(r'[^a-zA-Z]')"
   ]
  },
  {
   "cell_type": "code",
   "execution_count": 138,
   "id": "125f34a2-5a5f-4c68-9e4d-dcfee68e8160",
   "metadata": {},
   "outputs": [
    {
     "data": {
      "text/plain": [
       "'ahmedszouarigmailcom'"
      ]
     },
     "execution_count": 138,
     "metadata": {},
     "output_type": "execute_result"
    }
   ],
   "source": [
    "letters = pattern_letters.sub('', plain_text)\n",
    "letters"
   ]
  },
  {
   "cell_type": "code",
   "execution_count": 139,
   "id": "a46e459c-f866-4d9b-a60f-11cbdf108c69",
   "metadata": {},
   "outputs": [
    {
     "data": {
      "text/plain": [
       "'CjUwoljlbLXLVRVQbJhl'"
      ]
     },
     "execution_count": 139,
     "metadata": {},
     "output_type": "execute_result"
    }
   ],
   "source": [
    "ciphertext = c2.encrypt(letters)\n",
    "ciphertext"
   ]
  },
  {
   "cell_type": "code",
   "execution_count": 132,
   "id": "3d2d77cb-8559-450f-ab93-fa571a269fca",
   "metadata": {},
   "outputs": [
    {
     "data": {
      "text/plain": [
       "'7207215089'"
      ]
     },
     "execution_count": 132,
     "metadata": {},
     "output_type": "execute_result"
    }
   ],
   "source": [
    "ciphernum = c1.encrypt(nums)\n",
    "ciphernum"
   ]
  },
  {
   "cell_type": "code",
   "execution_count": 140,
   "id": "18cf4603-fbf9-42fe-bae6-d97db7ca6ed3",
   "metadata": {},
   "outputs": [],
   "source": [
    "encrypted_text = []\n",
    "letter_idx, digit_idx = 0, 0\n",
    "for char in plain_text:\n",
    "    if char in letters:\n",
    "        encrypted_text.append(ciphertext[letter_idx])\n",
    "        letter_idx += 1\n",
    "    elif char in nums:\n",
    "        encrypted_text.append(ciphernum[digit_idx])\n",
    "        digit_idx += 1\n",
    "    else:\n",
    "        encrypted_text.append(char)\n",
    "        \n",
    "        "
   ]
  },
  {
   "cell_type": "code",
   "execution_count": 141,
   "id": "f3e209b7-b74a-4ff7-9a74-5705a04532ad",
   "metadata": {},
   "outputs": [
    {
     "data": {
      "text/plain": [
       "('ahmed.s.zouari@gmail.com', 'CjUwo.l.jlbLXL@VRVQb.Jhl')"
      ]
     },
     "execution_count": 141,
     "metadata": {},
     "output_type": "execute_result"
    }
   ],
   "source": [
    "plain_text, ''.join(encrypted_text)"
   ]
  },
  {
   "cell_type": "code",
   "execution_count": 124,
   "id": "7a2b6eef-c626-477e-993f-d3c692605c4b",
   "metadata": {},
   "outputs": [
    {
     "data": {
      "text/plain": [
       "'abcdefghijklmnopqrstuvwxyzABCDEFGHIJKLMNOPQRSTUVWXYZ0123456789abcdefghijklmnopqrstuvwxyzABCDEFGHIJKLMNOPQRSTUVWXYZ'"
      ]
     },
     "execution_count": 124,
     "metadata": {},
     "output_type": "execute_result"
    }
   ],
   "source": [
    "string.ascii_letters + string.digits + string.ascii_letters"
   ]
  },
  {
   "cell_type": "code",
   "execution_count": 122,
   "id": "1b61a83c-f487-4b98-aaef-181624feb437",
   "metadata": {},
   "outputs": [
    {
     "data": {
      "text/plain": [
       "'0123456789'"
      ]
     },
     "execution_count": 122,
     "metadata": {},
     "output_type": "execute_result"
    }
   ],
   "source": [
    "string.digits"
   ]
  },
  {
   "cell_type": "code",
   "execution_count": null,
   "id": "3b002b3c-97d9-4853-a348-92919620a1d2",
   "metadata": {},
   "outputs": [],
   "source": []
  }
 ],
 "metadata": {
  "kernelspec": {
   "display_name": "Python 3 (ipykernel)",
   "language": "python",
   "name": "python3"
  },
  "language_info": {
   "codemirror_mode": {
    "name": "ipython",
    "version": 3
   },
   "file_extension": ".py",
   "mimetype": "text/x-python",
   "name": "python",
   "nbconvert_exporter": "python",
   "pygments_lexer": "ipython3",
   "version": "3.10.12"
  }
 },
 "nbformat": 4,
 "nbformat_minor": 5
}
